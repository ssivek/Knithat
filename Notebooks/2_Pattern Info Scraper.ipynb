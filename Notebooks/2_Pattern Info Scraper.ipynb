{
 "cells": [
  {
   "cell_type": "markdown",
   "metadata": {},
   "source": [
    "# KnitHAT \n",
    "\n",
    "This notebook is step two in the process of building [KnitHAT](http://knithat.works), which recommends hat patterns from Ravelry based on user-uploaded images. KnitHAT was my Insight Data Science fellowship project, and was built in only three weeks.\n",
    "\n",
    "This code scrapes from Ravelry information on selected patterns, based on the pattern IDs provided."
   ]
  },
  {
   "cell_type": "code",
   "execution_count": 1,
   "metadata": {},
   "outputs": [
    {
     "name": "stderr",
     "output_type": "stream",
     "text": [
      "/Users/ssivek/anaconda3/lib/python3.7/site-packages/requests/__init__.py:91: RequestsDependencyWarning: urllib3 (1.25.3) or chardet (3.0.4) doesn't match a supported version!\n",
      "  RequestsDependencyWarning)\n"
     ]
    }
   ],
   "source": [
    "import time as time\n",
    "import requests as rq\n",
    "import pandas as pd\n",
    "import re\n",
    "\n",
    "user = [redacted]\n",
    "pswd = [redacted]"
   ]
  },
  {
   "cell_type": "code",
   "execution_count": 3,
   "metadata": {},
   "outputs": [],
   "source": [
    "# Pull in hat only pattern IDs from their file; make list of IDs\n",
    "mode = 'r'\n",
    "ids_list = []\n",
    "with open('/Users/ssivek/Insight_Projects/Ravelry_Project/Data/hat_pattern_ids.txt', mode) as f:   \n",
    "    for line in f:\n",
    "        ids_list.append(line.rstrip()) # add IDs in file to list"
   ]
  },
  {
   "cell_type": "code",
   "execution_count": 4,
   "metadata": {},
   "outputs": [],
   "source": [
    "# print(ids_list)"
   ]
  },
  {
   "cell_type": "code",
   "execution_count": 5,
   "metadata": {},
   "outputs": [],
   "source": [
    "# create list of queries to send to API and retrieve individually\n",
    "\n",
    "all_queries = []\n",
    "def create_each_query(ids_list):\n",
    "    for id in ids_list:\n",
    "        query_each = 'https://api.ravelry.com/patterns.json?ids=' + id\n",
    "        all_queries.append(query_each) # add all individual queries to list\n",
    "    return all_queries"
   ]
  },
  {
   "cell_type": "code",
   "execution_count": 8,
   "metadata": {},
   "outputs": [
    {
     "data": {
      "text/plain": [
       "77150"
      ]
     },
     "execution_count": 8,
     "metadata": {},
     "output_type": "execute_result"
    }
   ],
   "source": [
    "len(all_queries)"
   ]
  },
  {
   "cell_type": "code",
   "execution_count": 7,
   "metadata": {},
   "outputs": [],
   "source": [
    "create_each_query(ids_list); # run function and hide output with semicolon"
   ]
  },
  {
   "cell_type": "code",
   "execution_count": 9,
   "metadata": {},
   "outputs": [],
   "source": [
    "# create subsets of all_queries list to be able run in small batches of pattern IDs (77150 IDs total)\n",
    "# tiny_batch = all_queries[:100] for testing\n",
    "\n",
    "first = 12000 ### CHANGE THIS ONE ###\n",
    "last = 16000  ### AND THIS ONE ### '''STOPPING AT 12000 FOR NOW, JUNE 11'''\n",
    "sub_query = all_queries[first:last]\n",
    "\n",
    "\n",
    "pattern_data = []\n",
    "\n",
    "for query in sub_query: \n",
    "    try:\n",
    "        batch = rq.get(query, auth=(user, pswd))\n",
    "        data = batch.text\n",
    "        pattern_data.append(data)\n",
    "    except rq.exceptions.SSLError:\n",
    "        time.sleep(5)\n",
    "        continue        "
   ]
  },
  {
   "cell_type": "code",
   "execution_count": 10,
   "metadata": {},
   "outputs": [],
   "source": [
    "df = pd.DataFrame(pattern_data)"
   ]
  },
  {
   "cell_type": "code",
   "execution_count": 11,
   "metadata": {},
   "outputs": [
    {
     "data": {
      "text/html": [
       "<div>\n",
       "<style scoped>\n",
       "    .dataframe tbody tr th:only-of-type {\n",
       "        vertical-align: middle;\n",
       "    }\n",
       "\n",
       "    .dataframe tbody tr th {\n",
       "        vertical-align: top;\n",
       "    }\n",
       "\n",
       "    .dataframe thead th {\n",
       "        text-align: right;\n",
       "    }\n",
       "</style>\n",
       "<table border=\"1\" class=\"dataframe\">\n",
       "  <thead>\n",
       "    <tr style=\"text-align: right;\">\n",
       "      <th></th>\n",
       "      <th>0</th>\n",
       "    </tr>\n",
       "  </thead>\n",
       "  <tbody>\n",
       "    <tr>\n",
       "      <th>0</th>\n",
       "      <td>{\"patterns\": {\"18602\":{\"comments_count\":0,\"cre...</td>\n",
       "    </tr>\n",
       "    <tr>\n",
       "      <th>1</th>\n",
       "      <td>{\"patterns\": {\"280747\":{\"comments_count\":0,\"cr...</td>\n",
       "    </tr>\n",
       "    <tr>\n",
       "      <th>2</th>\n",
       "      <td>{\"patterns\": {\"149677\":{\"comments_count\":2,\"cr...</td>\n",
       "    </tr>\n",
       "    <tr>\n",
       "      <th>3</th>\n",
       "      <td>{\"patterns\": {\"149679\":{\"comments_count\":0,\"cr...</td>\n",
       "    </tr>\n",
       "    <tr>\n",
       "      <th>4</th>\n",
       "      <td>{\"patterns\": {\"18608\":{\"comments_count\":0,\"cre...</td>\n",
       "    </tr>\n",
       "  </tbody>\n",
       "</table>\n",
       "</div>"
      ],
      "text/plain": [
       "                                                   0\n",
       "0  {\"patterns\": {\"18602\":{\"comments_count\":0,\"cre...\n",
       "1  {\"patterns\": {\"280747\":{\"comments_count\":0,\"cr...\n",
       "2  {\"patterns\": {\"149677\":{\"comments_count\":2,\"cr...\n",
       "3  {\"patterns\": {\"149679\":{\"comments_count\":0,\"cr...\n",
       "4  {\"patterns\": {\"18608\":{\"comments_count\":0,\"cre..."
      ]
     },
     "execution_count": 11,
     "metadata": {},
     "output_type": "execute_result"
    }
   ],
   "source": [
    "df.head(5)"
   ]
  },
  {
   "cell_type": "code",
   "execution_count": 12,
   "metadata": {},
   "outputs": [],
   "source": [
    "df.columns = ['patterns']"
   ]
  },
  {
   "cell_type": "code",
   "execution_count": 13,
   "metadata": {},
   "outputs": [],
   "source": [
    "df['pattern_id'] = df['patterns'].str.extract('{\"patterns\": {\"([0-9]+)') # extract pattern IDs from patterns column\n",
    "df.set_index('pattern_id');"
   ]
  },
  {
   "cell_type": "code",
   "execution_count": 14,
   "metadata": {},
   "outputs": [],
   "source": [
    "# extract pattern names from patterns column\n",
    "df['pattern_name'] = df['patterns'].str.extract('\"id\":[0-9]+,\"name\":\"([^\\s\"]+(?:\\s+[^\\s\"]+){,9})\",\"pdf_url\"', expand=False)\n",
    "\n",
    "# extract URL for \"medium2\"-size image from patterns column\n",
    "df['medium2_urls'] = df['patterns'].str.extract('\"medium2_url\":\"(https:\\/\\/\\S+_medium2.(?:jpg|jpeg|gif|png))\"', re.IGNORECASE, expand=False)\n",
    "\n",
    "# extract author name from patterns column\n",
    "df['author_name'] = df['patterns'].str.extract('\"knitting_pattern_count\":[0-9]+,\"name\":\"([^\\s\"]+(?:\\s+[^\\s\"]+){,9})\"', expand=False)"
   ]
  },
  {
   "cell_type": "code",
   "execution_count": 15,
   "metadata": {},
   "outputs": [
    {
     "data": {
      "text/html": [
       "<div>\n",
       "<style scoped>\n",
       "    .dataframe tbody tr th:only-of-type {\n",
       "        vertical-align: middle;\n",
       "    }\n",
       "\n",
       "    .dataframe tbody tr th {\n",
       "        vertical-align: top;\n",
       "    }\n",
       "\n",
       "    .dataframe thead th {\n",
       "        text-align: right;\n",
       "    }\n",
       "</style>\n",
       "<table border=\"1\" class=\"dataframe\">\n",
       "  <thead>\n",
       "    <tr style=\"text-align: right;\">\n",
       "      <th></th>\n",
       "      <th>patterns</th>\n",
       "      <th>pattern_id</th>\n",
       "      <th>pattern_name</th>\n",
       "      <th>medium2_urls</th>\n",
       "      <th>author_name</th>\n",
       "    </tr>\n",
       "  </thead>\n",
       "  <tbody>\n",
       "    <tr>\n",
       "      <th>0</th>\n",
       "      <td>{\"patterns\": {\"18602\":{\"comments_count\":0,\"cre...</td>\n",
       "      <td>18602</td>\n",
       "      <td>Slice of Pi Tam/Beret</td>\n",
       "      <td>https://images4-e.ravelrycache.com/uploads/sno...</td>\n",
       "      <td>Sarah Bradberry</td>\n",
       "    </tr>\n",
       "    <tr>\n",
       "      <th>1</th>\n",
       "      <td>{\"patterns\": {\"280747\":{\"comments_count\":0,\"cr...</td>\n",
       "      <td>280747</td>\n",
       "      <td>Urban Hunter</td>\n",
       "      <td>https://images4-b.ravelrycache.com/uploads/Woo...</td>\n",
       "      <td>Cheryl Andrews</td>\n",
       "    </tr>\n",
       "    <tr>\n",
       "      <th>2</th>\n",
       "      <td>{\"patterns\": {\"149677\":{\"comments_count\":2,\"cr...</td>\n",
       "      <td>149677</td>\n",
       "      <td>Festive Winter Bonnet</td>\n",
       "      <td>NaN</td>\n",
       "      <td>Concetta Phillipps</td>\n",
       "    </tr>\n",
       "    <tr>\n",
       "      <th>3</th>\n",
       "      <td>{\"patterns\": {\"149679\":{\"comments_count\":0,\"cr...</td>\n",
       "      <td>149679</td>\n",
       "      <td>Fancy Rib Hat</td>\n",
       "      <td>NaN</td>\n",
       "      <td>Sandy Scoville</td>\n",
       "    </tr>\n",
       "    <tr>\n",
       "      <th>4</th>\n",
       "      <td>{\"patterns\": {\"18608\":{\"comments_count\":0,\"cre...</td>\n",
       "      <td>18608</td>\n",
       "      <td>Pixie Bonnet</td>\n",
       "      <td>https://images4-e.ravelrycache.com/uploads/sno...</td>\n",
       "      <td>Sarah Bradberry</td>\n",
       "    </tr>\n",
       "  </tbody>\n",
       "</table>\n",
       "</div>"
      ],
      "text/plain": [
       "                                            patterns pattern_id  \\\n",
       "0  {\"patterns\": {\"18602\":{\"comments_count\":0,\"cre...      18602   \n",
       "1  {\"patterns\": {\"280747\":{\"comments_count\":0,\"cr...     280747   \n",
       "2  {\"patterns\": {\"149677\":{\"comments_count\":2,\"cr...     149677   \n",
       "3  {\"patterns\": {\"149679\":{\"comments_count\":0,\"cr...     149679   \n",
       "4  {\"patterns\": {\"18608\":{\"comments_count\":0,\"cre...      18608   \n",
       "\n",
       "            pattern_name                                       medium2_urls  \\\n",
       "0  Slice of Pi Tam/Beret  https://images4-e.ravelrycache.com/uploads/sno...   \n",
       "1           Urban Hunter  https://images4-b.ravelrycache.com/uploads/Woo...   \n",
       "2  Festive Winter Bonnet                                                NaN   \n",
       "3          Fancy Rib Hat                                                NaN   \n",
       "4           Pixie Bonnet  https://images4-e.ravelrycache.com/uploads/sno...   \n",
       "\n",
       "          author_name  \n",
       "0     Sarah Bradberry  \n",
       "1      Cheryl Andrews  \n",
       "2  Concetta Phillipps  \n",
       "3      Sandy Scoville  \n",
       "4     Sarah Bradberry  "
      ]
     },
     "execution_count": 15,
     "metadata": {},
     "output_type": "execute_result"
    }
   ],
   "source": [
    "df.head(5)"
   ]
  },
  {
   "cell_type": "code",
   "execution_count": 17,
   "metadata": {},
   "outputs": [],
   "source": [
    "csv_filename = '/Users/ssivek/Insight_Projects/Ravelry_Project/Data/patterns' + str(last) + '.csv' \n",
    "export_csv = df.to_csv (csv_filename, index = None, header=True) "
   ]
  }
 ],
 "metadata": {
  "kernelspec": {
   "display_name": "Python 3",
   "language": "python",
   "name": "python3"
  },
  "language_info": {
   "codemirror_mode": {
    "name": "ipython",
    "version": 3
   },
   "file_extension": ".py",
   "mimetype": "text/x-python",
   "name": "python",
   "nbconvert_exporter": "python",
   "pygments_lexer": "ipython3",
   "version": "3.7.3"
  }
 },
 "nbformat": 4,
 "nbformat_minor": 2
}
